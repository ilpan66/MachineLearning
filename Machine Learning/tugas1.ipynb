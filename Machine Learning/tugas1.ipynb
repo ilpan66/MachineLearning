{
 "cells": [
  {
   "cell_type": "code",
   "execution_count": 2,
   "id": "c3d36da2-90e1-4ea2-8d3f-c07a453c8cb1",
   "metadata": {},
   "outputs": [
    {
     "name": "stdout",
     "output_type": "stream",
     "text": [
      "ilpan_41155050210046\n"
     ]
    }
   ],
   "source": [
    "print(\"ilpan_41155050210046\")"
   ]
  },
  {
   "cell_type": "code",
   "execution_count": null,
   "id": "0f6bb225-5f6b-4cca-9929-be033d8658be",
   "metadata": {},
   "outputs": [],
   "source": []
  }
 ],
 "metadata": {
  "kernelspec": {
   "display_name": "Python 3 (ipykernel)",
   "language": "python",
   "name": "python3"
  },
  "language_info": {
   "codemirror_mode": {
    "name": "ipython",
    "version": 3
   },
   "file_extension": ".py",
   "mimetype": "text/x-python",
   "name": "python",
   "nbconvert_exporter": "python",
   "pygments_lexer": "ipython3",
   "version": "3.10.2"
  }
 },
 "nbformat": 4,
 "nbformat_minor": 5
}
