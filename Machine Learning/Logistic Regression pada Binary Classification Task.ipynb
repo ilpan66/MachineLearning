{
 "cells": [
  {
   "cell_type": "code",
   "execution_count": 9,
   "id": "a84a45af-32d4-4145-b324-5899fe134fbd",
   "metadata": {},
   "outputs": [
    {
     "name": "stderr",
     "output_type": "stream",
     "text": [
      "C:\\Users\\MyPc\\AppData\\Local\\Temp\\ipykernel_9700\\2058533203.py:3: ParserWarning: Falling back to the 'python' engine because the 'c' engine does not support regex separators (separators > 1 char and different from '\\s+' are interpreted as regex); you can avoid this warning by specifying engine='python'.\n",
      "  df = pd.read_csv('./Dataset/SMSSpamCollection',\n"
     ]
    },
    {
     "data": {
      "text/html": [
       "<div>\n",
       "<style scoped>\n",
       "    .dataframe tbody tr th:only-of-type {\n",
       "        vertical-align: middle;\n",
       "    }\n",
       "\n",
       "    .dataframe tbody tr th {\n",
       "        vertical-align: top;\n",
       "    }\n",
       "\n",
       "    .dataframe thead th {\n",
       "        text-align: right;\n",
       "    }\n",
       "</style>\n",
       "<table border=\"1\" class=\"dataframe\">\n",
       "  <thead>\n",
       "    <tr style=\"text-align: right;\">\n",
       "      <th></th>\n",
       "      <th>label</th>\n",
       "      <th>sms</th>\n",
       "    </tr>\n",
       "  </thead>\n",
       "  <tbody>\n",
       "    <tr>\n",
       "      <th>0</th>\n",
       "      <td>ham</td>\n",
       "      <td>Go until jurong point, crazy.. Available only ...</td>\n",
       "    </tr>\n",
       "    <tr>\n",
       "      <th>1</th>\n",
       "      <td>ham</td>\n",
       "      <td>Ok lar... Joking wif u oni...</td>\n",
       "    </tr>\n",
       "    <tr>\n",
       "      <th>2</th>\n",
       "      <td>spam</td>\n",
       "      <td>Free entry in 2 a wkly comp to win FA Cup fina...</td>\n",
       "    </tr>\n",
       "    <tr>\n",
       "      <th>3</th>\n",
       "      <td>ham</td>\n",
       "      <td>U dun say so early hor... U c already then say...</td>\n",
       "    </tr>\n",
       "    <tr>\n",
       "      <th>4</th>\n",
       "      <td>ham</td>\n",
       "      <td>Nah I don't think he goes to usf, he lives aro...</td>\n",
       "    </tr>\n",
       "  </tbody>\n",
       "</table>\n",
       "</div>"
      ],
      "text/plain": [
       "  label                                                sms\n",
       "0   ham  Go until jurong point, crazy.. Available only ...\n",
       "1   ham                      Ok lar... Joking wif u oni...\n",
       "2  spam  Free entry in 2 a wkly comp to win FA Cup fina...\n",
       "3   ham  U dun say so early hor... U c already then say...\n",
       "4   ham  Nah I don't think he goes to usf, he lives aro..."
      ]
     },
     "execution_count": 9,
     "metadata": {},
     "output_type": "execute_result"
    }
   ],
   "source": [
    "import pandas as pd\n",
    "\n",
    "df = pd.read_csv('./Dataset/SMSSpamCollection', \n",
    "                 sep='\\\\t',\n",
    "                 header=None,\n",
    "                 names=['label','sms'])\n",
    "df.head()"
   ]
  },
  {
   "cell_type": "code",
   "execution_count": 10,
   "id": "de2ff189-70e9-4af0-b9f4-9c6553010f94",
   "metadata": {},
   "outputs": [
    {
     "data": {
      "text/plain": [
       "label\n",
       "ham     4827\n",
       "spam     747\n",
       "Name: count, dtype: int64"
      ]
     },
     "execution_count": 10,
     "metadata": {},
     "output_type": "execute_result"
    }
   ],
   "source": [
    "df ['label'].value_counts()"
   ]
  },
  {
   "cell_type": "code",
   "execution_count": 11,
   "id": "4d842adb-7a32-4949-bed1-d65793ab25c8",
   "metadata": {},
   "outputs": [
    {
     "data": {
      "text/plain": [
       "array(['ham', 'spam'], dtype='<U4')"
      ]
     },
     "execution_count": 11,
     "metadata": {},
     "output_type": "execute_result"
    }
   ],
   "source": [
    "from sklearn.preprocessing import LabelBinarizer\n",
    "\n",
    "X = df['sms'].values \n",
    "y = df['label'].values \n",
    "   \n",
    "lb = LabelBinarizer()\n",
    "y = lb.fit_transform(y).ravel()\n",
    "lb.classes_"
   ]
  },
  {
   "cell_type": "code",
   "execution_count": 12,
   "id": "11890344-e1b9-45a8-9ae2-01615df6279d",
   "metadata": {},
   "outputs": [
    {
     "name": "stdout",
     "output_type": "stream",
     "text": [
      "['The whole car appreciated the last two! Dad and are having a map reading semi argument but apart from that things are going ok. P.'\n",
      " 'Its going good...no problem..but still need little experience to understand american customer voice...'\n",
      " 'U have a secret admirer. REVEAL who thinks U R So special. Call 09065174042. To opt out Reply REVEAL STOP. 1.50 per msg recd. Cust care 07821230901'\n",
      " ...\n",
      " \"For ur chance to win a £250 cash every wk TXT: ACTION to 80608. T's&C's www.movietrivia.tv custcare 08712405022, 1x150p/wk\"\n",
      " 'R U &SAM P IN EACHOTHER. IF WE MEET WE CAN GO 2 MY HOUSE'\n",
      " 'Mm feeling sleepy. today itself i shall get that dear'] \\n\n",
      "[0 0 1 ... 1 0 0]\n"
     ]
    }
   ],
   "source": [
    "from sklearn.model_selection import train_test_split\n",
    "    \n",
    "X_train, X_test, y_train, y_test = train_test_split(X,\n",
    "                                                    y,\n",
    "                                                    test_size=0.25,\n",
    "                                                    random_state=0)\n",
    "print(X_train,'\\\\n')\n",
    "print(y_train)"
   ]
  },
  {
   "cell_type": "code",
   "execution_count": 13,
   "id": "5b22abf9-c2c0-46ed-9f58-a70f73d77163",
   "metadata": {},
   "outputs": [
    {
     "name": "stdout",
     "output_type": "stream",
     "text": [
      "<Compressed Sparse Row sparse matrix of dtype 'float64'\n",
      "\twith 32567 stored elements and shape (4180, 7229)>\n",
      "  Coords\tValues\n",
      "  (0, 1523)\t0.2522205285529818\n",
      "  (0, 950)\t0.34601811702744634\n",
      "  (0, 2004)\t0.26850437452626374\n",
      "  (0, 3144)\t0.24406713073621866\n",
      "  (0, 4075)\t0.3339371810430319\n",
      "  (0, 5242)\t0.2954584201645996\n",
      "  (0, 5637)\t0.36304523996639637\n",
      "  (0, 977)\t0.3339371810430319\n",
      "  (0, 931)\t0.34601811702744634\n",
      "  (0, 6417)\t0.24406713073621866\n",
      "  (0, 2963)\t0.1890582237517172\n",
      "  (0, 4588)\t0.16681422169631532\n",
      "  (1, 2963)\t0.23169283059508544\n",
      "  (1, 2974)\t0.21420182174707136\n",
      "  (1, 5075)\t0.3090988957527331\n",
      "  (1, 4417)\t0.23128599724906077\n",
      "  (1, 3893)\t0.3109705256571213\n",
      "  (1, 2533)\t0.38044335706471133\n",
      "  (1, 6688)\t0.3571823267389251\n",
      "  (1, 873)\t0.4092435080655983\n",
      "  (1, 1987)\t0.28947213851738335\n",
      "  (1, 6845)\t0.36208738415414404\n",
      "  (2, 5609)\t0.24076916057618364\n",
      "  (2, 774)\t0.24670734978621686\n",
      "  (2, 5405)\t0.4934146995724337\n",
      "  :\t:\n",
      "  (4177, 6741)\t0.142007724207017\n",
      "  (4177, 6641)\t0.1640423172769546\n",
      "  (4177, 7020)\t0.19627824147075287\n",
      "  (4177, 1548)\t0.19180583908719318\n",
      "  (4177, 7051)\t0.4356908239832621\n",
      "  (4177, 7134)\t0.1842247131206878\n",
      "  (4177, 6634)\t0.21908933362097516\n",
      "  (4177, 1592)\t0.2166422821106723\n",
      "  (4177, 352)\t0.24091043023412656\n",
      "  (4177, 755)\t0.2917765839999378\n",
      "  (4177, 608)\t0.30233226462838547\n",
      "  (4177, 4313)\t0.30233226462838547\n",
      "  (4177, 1985)\t0.254658747437792\n",
      "  (4177, 105)\t0.30233226462838547\n",
      "  (4177, 328)\t0.2768991877454799\n",
      "  (4178, 4145)\t0.371499005115225\n",
      "  (4178, 3285)\t0.424764348040378\n",
      "  (4178, 5527)\t0.5429083455441726\n",
      "  (4178, 2333)\t0.6219439413409539\n",
      "  (4179, 6502)\t0.29651521463746244\n",
      "  (4179, 2047)\t0.3077604202567174\n",
      "  (4179, 5685)\t0.39538631591713386\n",
      "  (4179, 2621)\t0.4138507483153434\n",
      "  (4179, 4242)\t0.45833933652795744\n",
      "  (4179, 5843)\t0.5288520805549759\n"
     ]
    }
   ],
   "source": [
    "from sklearn.feature_extraction.text import TfidfVectorizer\n",
    "\n",
    "vectorizer = TfidfVectorizer(stop_words='english')\n",
    "    \n",
    "X_train_tfidf = vectorizer.fit_transform(X_train)\n",
    "X_test_tfidf = vectorizer.transform(X_test)\n",
    "print(X_train_tfidf)"
   ]
  },
  {
   "cell_type": "code",
   "execution_count": 15,
   "id": "95b54483-00ec-498d-a9d2-90bfedfb1b7b",
   "metadata": {},
   "outputs": [
    {
     "name": "stdout",
     "output_type": "stream",
     "text": [
      "PRED: 0 - SMS: That's cool he'll be here all night, lemme know when you're around\\n\n",
      "PRED: 0 - SMS: Sorry, I'll call later In meeting.\\n\n",
      "PRED: 0 - SMS: alright. Thanks for the advice. Enjoy your night out. I'ma try to get some sleep...\\n\n",
      "PRED: 0 - SMS: Ok. Can be later showing around 8-8:30 if you want + cld have drink before. Wld prefer not to spend money on nosh if you don't mind, as doing that nxt wk.\\n\n",
      "PRED: 0 - SMS: Yes..he is really great..bhaji told kallis best cricketer after sachin in world:).very tough to get out.\\n\n"
     ]
    }
   ],
   "source": [
    "from sklearn.linear_model import LogisticRegression\n",
    "    \n",
    "model = LogisticRegression()\n",
    "model.fit(X_train_tfidf, y_train) \n",
    "y_pred = model.predict(X_test_tfidf) \n",
    "   \n",
    "for pred, sms in zip (y_pred[:5],X_test[:5]):\n",
    "       print(f'PRED: {pred} - SMS: {sms}\\\\n')"
   ]
  },
  {
   "cell_type": "code",
   "execution_count": 16,
   "id": "1cbc815b-3969-4ab5-8336-ae2a27975541",
   "metadata": {},
   "outputs": [
    {
     "data": {
      "text/plain": [
       "array([[1195,    3],\n",
       "       [  53,  143]])"
      ]
     },
     "execution_count": 16,
     "metadata": {},
     "output_type": "execute_result"
    }
   ],
   "source": [
    "from sklearn.metrics import confusion_matrix\n",
    "\n",
    "matrix = confusion_matrix(y_test,y_pred)\n",
    "matrix"
   ]
  },
  {
   "cell_type": "code",
   "execution_count": 17,
   "id": "63fdec2d-a8c9-48c6-9935-e3167b233179",
   "metadata": {},
   "outputs": [
    {
     "name": "stdout",
     "output_type": "stream",
     "text": [
      "TN: 1195\n",
      "FP: 3\n",
      "FN: 53\n",
      "TP: 143\n"
     ]
    }
   ],
   "source": [
    "tn, fp, fn, tp = matrix.ravel() \n",
    "\n",
    "print(f'TN: {tn}')\n",
    "print(f'FP: {fp}')\n",
    "print(f'FN: {fn}')\n",
    "print(f'TP: {tp}')"
   ]
  },
  {
   "cell_type": "code",
   "execution_count": 18,
   "id": "9c83b125-9aa7-4289-9d39-b851f528b5ab",
   "metadata": {},
   "outputs": [
    {
     "data": {
      "image/png": "[encoded data removed]",
      "text/plain": [
       "<Figure size 480x480 with 2 Axes>"
      ]
     },
     "metadata": {},
     "output_type": "display_data"
    }
   ],
   "source": [
    "import matplotlib.pyplot as plt\n",
    "\n",
    "plt.matshow(matrix)\n",
    "plt.colorbar()\n",
    "    \n",
    "plt.title('Confusion Matrix')\n",
    "plt.ylabel('True label')\n",
    "plt.xlabel('Predicted label')\n",
    "plt.show()"
   ]
  },
  {
   "cell_type": "code",
   "execution_count": 19,
   "id": "845d75f6-7919-4aea-8b28-82db008da7c9",
   "metadata": {},
   "outputs": [
    {
     "data": {
      "text/plain": [
       "0.9598278335724534"
      ]
     },
     "execution_count": 19,
     "metadata": {},
     "output_type": "execute_result"
    }
   ],
   "source": [
    "from sklearn.metrics import accuracy_score\n",
    "\n",
    "accuracy_score(y_test,y_pred)"
   ]
  },
  {
   "cell_type": "code",
   "execution_count": 20,
   "id": "4620b4e2-4d40-48c6-a5c5-aea46fcab0b2",
   "metadata": {},
   "outputs": [
    {
     "data": {
      "text/plain": [
       "np.float64(0.9794520547945206)"
      ]
     },
     "execution_count": 20,
     "metadata": {},
     "output_type": "execute_result"
    }
   ],
   "source": [
    "from sklearn.metrics import precision_score\n",
    "\n",
    "precision_score (y_test,y_pred)"
   ]
  },
  {
   "cell_type": "code",
   "execution_count": 21,
   "id": "91af7bdf-3e48-4d7c-b960-9b7ae071ab50",
   "metadata": {},
   "outputs": [
    {
     "data": {
      "text/plain": [
       "np.float64(0.7295918367346939)"
      ]
     },
     "execution_count": 21,
     "metadata": {},
     "output_type": "execute_result"
    }
   ],
   "source": [
    "from sklearn.metrics import recall_score\n",
    "recall_score (y_test,y_pred)"
   ]
  },
  {
   "cell_type": "code",
   "execution_count": 22,
   "id": "0bd05101-51a1-40b5-906f-7c272c26a20c",
   "metadata": {},
   "outputs": [
    {
     "data": {
      "text/plain": [
       "np.float64(0.8362573099415205)"
      ]
     },
     "execution_count": 22,
     "metadata": {},
     "output_type": "execute_result"
    }
   ],
   "source": [
    "from sklearn.metrics import f1_score\n",
    "\n",
    "f1_score(y_test,y_pred)"
   ]
  },
  {
   "cell_type": "code",
   "execution_count": 26,
   "id": "3e272514-f418-44be-bec9-b2d34c5f7e94",
   "metadata": {},
   "outputs": [
    {
     "data": {
      "image/png": "[encoded data removed]",
      "text/plain": [
       "<Figure size 640x480 with 1 Axes>"
      ]
     },
     "metadata": {},
     "output_type": "display_data"
    }
   ],
   "source": [
    "from sklearn.metrics import roc_curve, auc\n",
    "\n",
    "prob_estimates = model.predict_proba(X_test_tfidf)\n",
    "   \n",
    "fpr, tpr, treshhold = roc_curve(y_test, prob_estimates[:,1])\n",
    "nilai_auc = auc (fpr,tpr)\n",
    " \n",
    "plt.plot(fpr,tpr,'b',label=f'AUC={nilai_auc}')\n",
    "plt.plot([0,1], [0,1], '--r', label='Random Classifier')\n",
    "   \n",
    "plt.title('ROC: Receiver Operating Characteristic')\n",
    "plt.xlabel('Fallout or False Positive Rate')\n",
    "plt.ylabel('Recall or True Positive Rate')\n",
    "plt.legend()\n",
    "plt.show()e"
   ]
  },
  {
   "cell_type": "code",
   "execution_count": null,
   "id": "03033a02-fe4d-420c-8270-4c0501aade30",
   "metadata": {},
   "outputs": [],
   "source": []
  }
 ],
 "metadata": {
  "kernelspec": {
   "display_name": "Python 3 (ipykernel)",
   "language": "python",
   "name": "python3"
  },
  "language_info": {
   "codemirror_mode": {
    "name": "ipython",
    "version": 3
   },
   "file_extension": ".py",
   "mimetype": "text/x-python",
   "name": "python",
   "nbconvert_exporter": "python",
   "pygments_lexer": "ipython3",
   "version": "3.10.2"
  }
 },
 "nbformat": 4,
 "nbformat_minor": 5
}
